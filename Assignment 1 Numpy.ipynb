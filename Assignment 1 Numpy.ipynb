{
 "cells": [
  {
   "cell_type": "markdown",
   "id": "63a9ff00",
   "metadata": {},
   "source": [
    "# Create a null vector of size 10 but the fifth value which is 1."
   ]
  },
  {
   "cell_type": "code",
   "execution_count": 1,
   "id": "c57f5728",
   "metadata": {},
   "outputs": [
    {
     "name": "stdout",
     "output_type": "stream",
     "text": [
      "[0 0 0 0 1 0 0 0 0 0]\n"
     ]
    }
   ],
   "source": [
    "import numpy as np\n",
    "\n",
    "\n",
    "arr = np.zeros(10,dtype = int)\n",
    "arr[4] = 1\n",
    "\n",
    "print(arr)"
   ]
  },
  {
   "cell_type": "markdown",
   "id": "70d4f5ca",
   "metadata": {},
   "source": [
    "# 2. Create a vector with values ranging from 10 to 49."
   ]
  },
  {
   "cell_type": "code",
   "execution_count": 2,
   "id": "f24e82f2",
   "metadata": {},
   "outputs": [
    {
     "data": {
      "text/plain": [
       "array([10, 11, 12, 13, 14, 15, 16, 17, 18, 19, 20, 21, 22, 23, 24, 25, 26,\n",
       "       27, 28, 29, 30, 31, 32, 33, 34, 35, 36, 37, 38, 39, 40, 41, 42, 43,\n",
       "       44, 45, 46, 47, 48, 49])"
      ]
     },
     "execution_count": 2,
     "metadata": {},
     "output_type": "execute_result"
    }
   ],
   "source": [
    "array_1 = np.arange(10,50)\n",
    "\n",
    "array_1"
   ]
  },
  {
   "cell_type": "code",
   "execution_count": null,
   "id": "523d27e1",
   "metadata": {},
   "outputs": [],
   "source": []
  },
  {
   "cell_type": "code",
   "execution_count": null,
   "id": "ac2914f2",
   "metadata": {},
   "outputs": [],
   "source": []
  },
  {
   "cell_type": "markdown",
   "id": "6f93778e",
   "metadata": {},
   "source": [
    "# 3. Create a 3x3 matrix with values ranging from 0 to 8"
   ]
  },
  {
   "cell_type": "code",
   "execution_count": 3,
   "id": "78172e61",
   "metadata": {},
   "outputs": [
    {
     "name": "stdout",
     "output_type": "stream",
     "text": [
      "[[0 1 2]\n",
      " [3 4 5]\n",
      " [6 7 8]]\n"
     ]
    }
   ],
   "source": [
    "array_2 = np.arange(0,9).reshape(3,3)\n",
    "\n",
    "print(array_2)"
   ]
  },
  {
   "cell_type": "code",
   "execution_count": null,
   "id": "f3538868",
   "metadata": {},
   "outputs": [],
   "source": []
  },
  {
   "cell_type": "code",
   "execution_count": null,
   "id": "b363bbd0",
   "metadata": {},
   "outputs": [],
   "source": []
  },
  {
   "cell_type": "markdown",
   "id": "b0c1f406",
   "metadata": {},
   "source": [
    "# 4. Find indices of non-zero elements from [1,2,0,0,4,0]"
   ]
  },
  {
   "cell_type": "code",
   "execution_count": null,
   "id": "7732f7bd",
   "metadata": {},
   "outputs": [],
   "source": []
  },
  {
   "cell_type": "code",
   "execution_count": 4,
   "id": "562b9a24",
   "metadata": {},
   "outputs": [
    {
     "name": "stdout",
     "output_type": "stream",
     "text": [
      "Original array:\n",
      "[1 2 0 0 4 0]\n",
      "\n",
      "Indices of null elements:\n",
      "(array([2, 3, 5], dtype=int64),)\n"
     ]
    }
   ],
   "source": [
    "n_array = np.array([1,2,0,0,4,0])\n",
    "\n",
    "print(\"Original array:\")\n",
    "print(n_array)\n",
    "\n",
    "# np.nonzero()\n",
    "print(\"\\nIndices of null elements:\")\n",
    "\n",
    "res = np.nonzero(n_array == 0)\n",
    "print(res)\n"
   ]
  },
  {
   "cell_type": "code",
   "execution_count": null,
   "id": "875e2e02",
   "metadata": {},
   "outputs": [],
   "source": []
  },
  {
   "cell_type": "code",
   "execution_count": null,
   "id": "c39315d8",
   "metadata": {},
   "outputs": [],
   "source": []
  },
  {
   "cell_type": "markdown",
   "id": "9581218e",
   "metadata": {},
   "source": [
    "# 5. Create a 10x10 array with random values and find the minimum and maximum values."
   ]
  },
  {
   "cell_type": "code",
   "execution_count": 12,
   "id": "accb2e04",
   "metadata": {},
   "outputs": [],
   "source": [
    "import numpy as np"
   ]
  },
  {
   "cell_type": "code",
   "execution_count": 5,
   "id": "f2da05c7",
   "metadata": {},
   "outputs": [
    {
     "name": "stdout",
     "output_type": "stream",
     "text": [
      "the original array [[0.69187456 0.79497298 0.36626079 0.04939706 0.89731403 0.94675224\n",
      "  0.6600538  0.35444682 0.05997895 0.69626316]\n",
      " [0.23045643 0.5626402  0.66361342 0.24120733 0.17643295 0.04592889\n",
      "  0.37200944 0.56090781 0.36599514 0.55318029]\n",
      " [0.79896784 0.39400522 0.75496313 0.79040531 0.3188288  0.89903556\n",
      "  0.50026663 0.39130338 0.04929796 0.7559574 ]\n",
      " [0.84148592 0.27382335 0.48467187 0.88020048 0.34630547 0.40895718\n",
      "  0.04150862 0.27298144 0.65143378 0.76723278]\n",
      " [0.54401984 0.73757851 0.29914279 0.47244487 0.8424853  0.85323553\n",
      "  0.05848399 0.14127466 0.8413576  0.7632632 ]\n",
      " [0.62360586 0.74413327 0.17230043 0.39695283 0.8684596  0.77423627\n",
      "  0.13602122 0.96183421 0.24572356 0.21908269]\n",
      " [0.40512497 0.75616004 0.22120323 0.02300394 0.25969849 0.16834357\n",
      "  0.18780101 0.41973226 0.38300003 0.88310302]\n",
      " [0.64327913 0.40624592 0.28461919 0.89888001 0.69602423 0.88939193\n",
      "  0.53956368 0.81828091 0.35855281 0.75388942]\n",
      " [0.92856044 0.65217502 0.69748862 0.66019329 0.08657697 0.73083354\n",
      "  0.60586138 0.81818144 0.72637829 0.18227505]\n",
      " [0.46443394 0.78164406 0.45408985 0.14872203 0.54235411 0.87844397\n",
      "  0.71800591 0.78085278 0.3447633  0.14794065]]\n",
      "\n",
      "\n",
      "\n",
      "the minimum value of n_array: \n",
      " 0.023003939298234632\n",
      "\n",
      "\n",
      "\n",
      "the maximun value of n_array: \n",
      " 0.961834213749608\n"
     ]
    }
   ],
   "source": [
    "n_array = np.random.random((10,10))\n",
    "\n",
    "print(\"the original array\",n_array)\n",
    "\n",
    "print(\"\\n\\n\")\n",
    "print(\"the minimum value of n_array: \\n\",n_array.min())\n",
    "      \n",
    "print(\"\\n\\n\")\n",
    "print(\"the maximun value of n_array: \\n\",n_array.max())\n"
   ]
  },
  {
   "cell_type": "code",
   "execution_count": null,
   "id": "123aa030",
   "metadata": {},
   "outputs": [],
   "source": []
  },
  {
   "cell_type": "markdown",
   "id": "838310ab",
   "metadata": {},
   "source": [
    "# 6. Create a random vector of size 30 and find the mean value."
   ]
  },
  {
   "cell_type": "code",
   "execution_count": null,
   "id": "d1fa2376",
   "metadata": {},
   "outputs": [],
   "source": []
  },
  {
   "cell_type": "code",
   "execution_count": 6,
   "id": "71072aa7",
   "metadata": {},
   "outputs": [
    {
     "name": "stdout",
     "output_type": "stream",
     "text": [
      "the random array is: \n",
      " [0.52799994 0.01532219 0.60085276 0.97943723 0.98885501 0.71445471\n",
      " 0.54165155 0.25310158 0.58122574 0.73067107 0.16665505 0.36460486\n",
      " 0.82654979 0.63521714 0.27529535 0.19902464 0.98118583 0.85519642\n",
      " 0.44714895 0.61694428 0.50242864 0.98835996 0.81637378 0.02803744\n",
      " 0.15185125 0.75731726 0.95961603 0.31600629 0.11612885 0.42644321]\n",
      "\n",
      "\n",
      "the mean value of array: \n",
      "  0.5454652263565559\n"
     ]
    }
   ],
   "source": [
    "import numpy as np\n",
    "\n",
    "z = np.random.random(30)\n",
    "print(\"the random array is: \\n\",z)\n",
    "\n",
    "mean_1 = z.mean()\n",
    "print(\"\\n\\nthe mean value of array: \\n \",mean_1)"
   ]
  },
  {
   "cell_type": "code",
   "execution_count": null,
   "id": "580b1fae",
   "metadata": {},
   "outputs": [],
   "source": []
  }
 ],
 "metadata": {
  "kernelspec": {
   "display_name": "Python 3 (ipykernel)",
   "language": "python",
   "name": "python3"
  },
  "language_info": {
   "codemirror_mode": {
    "name": "ipython",
    "version": 3
   },
   "file_extension": ".py",
   "mimetype": "text/x-python",
   "name": "python",
   "nbconvert_exporter": "python",
   "pygments_lexer": "ipython3",
   "version": "3.9.7"
  }
 },
 "nbformat": 4,
 "nbformat_minor": 5
}
